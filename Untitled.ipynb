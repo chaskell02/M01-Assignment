{
 "cells": [
  {
   "cell_type": "code",
   "execution_count": null,
   "id": "3de8af8d",
   "metadata": {},
   "outputs": [],
   "source": [
    "# 3.1: How many seconds are in an hour?\n",
    "seconds_in_minute = 60\n",
    "minutes_in_hour = 60\n",
    "seconds_in_hour = seconds_in_minute * minutes_in_hour\n",
    "print(\"Seconds in an hour:\", seconds_in_hour)\n",
    "\n",
    "# 3.2: Assign the result to a variable called seconds_per_hour.\n",
    "seconds_per_hour = seconds_in_hour\n",
    "\n",
    "# 3.3: How many seconds are in a day? Use the seconds_per_hour variable.\n",
    "hours_in_day = 24\n",
    "seconds_per_day = seconds_per_hour * hours_in_day\n",
    "print(\"Seconds in a day:\", seconds_per_day)\n",
    "\n",
    "# 3.4: Calculate seconds per day again and save the result in seconds_per_day.\n",
    "seconds_per_day = seconds_per_hour * 24\n",
    "\n",
    "# 3.5: Divide seconds_per_day by seconds_per_hour using floating-point (/) division.\n",
    "floating_point_result = seconds_per_day / seconds_per_hour\n",
    "print(\"Floating-point division result:\", floating_point_result)\n",
    "\n",
    "# 3.6: Divide seconds_per_day by seconds_per_hour using integer (//) division.\n",
    "integer_result = seconds_per_day // seconds_per_hour\n",
    "print(\"Integer division result:\", integer_result)\n"
   ]
  }
 ],
 "metadata": {
  "kernelspec": {
   "display_name": "Python 3 (ipykernel)",
   "language": "python",
   "name": "python3"
  },
  "language_info": {
   "codemirror_mode": {
    "name": "ipython",
    "version": 3
   },
   "file_extension": ".py",
   "mimetype": "text/x-python",
   "name": "python",
   "nbconvert_exporter": "python",
   "pygments_lexer": "ipython3",
   "version": "3.11.5"
  }
 },
 "nbformat": 4,
 "nbformat_minor": 5
}
